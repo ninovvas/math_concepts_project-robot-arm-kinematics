{
 "cells": [
  {
   "cell_type": "code",
   "execution_count": 1,
   "id": "b7b7b8b0-fd59-4f0c-a1fd-62e428b90db7",
   "metadata": {},
   "outputs": [],
   "source": [
    "%matplotlib inline"
   ]
  },
  {
   "cell_type": "code",
   "execution_count": null,
   "id": "64431439-2d6f-4d63-9cdf-b6901f331d28",
   "metadata": {},
   "outputs": [],
   "source": [
    "# Add inports"
   ]
  },
  {
   "cell_type": "markdown",
   "id": "8b664573-c4c9-43d8-b38c-324281587b37",
   "metadata": {},
   "source": [
    "# Methods of solutions of inverse and forward kinematics in a planar robot arm"
   ]
  },
  {
   "cell_type": "markdown",
   "id": "0bee0ddb-46e5-40a7-b889-daacf71185d1",
   "metadata": {},
   "source": [
    "## Table of content\n",
    "[1. Introduction](#chapter1)"
   ]
  },
  {
   "cell_type": "markdown",
   "id": "432804ce-b943-4cbc-a119-f7a4abe05171",
   "metadata": {},
   "source": [
    "## Abstract"
   ]
  },
  {
   "cell_type": "markdown",
   "id": "174b187c-6b7c-45bd-af92-90df8fedc66e",
   "metadata": {},
   "source": [
    "## Scope"
   ]
  },
  {
   "cell_type": "markdown",
   "id": "9ef64190-3007-4823-97e5-44ff1a245b5e",
   "metadata": {},
   "source": [
    "## Goal and Motivation"
   ]
  },
  {
   "cell_type": "markdown",
   "id": "9dde296e-34c8-48d2-b4ec-f2955a6d8bf5",
   "metadata": {},
   "source": [
    "## Literature <a class=\"anchor\" id=\"chapter8\"></a>"
   ]
  }
 ],
 "metadata": {
  "kernelspec": {
   "display_name": "Python 3 (ipykernel)",
   "language": "python",
   "name": "python3"
  },
  "language_info": {
   "codemirror_mode": {
    "name": "ipython",
    "version": 3
   },
   "file_extension": ".py",
   "mimetype": "text/x-python",
   "name": "python",
   "nbconvert_exporter": "python",
   "pygments_lexer": "ipython3",
   "version": "3.11.5"
  }
 },
 "nbformat": 4,
 "nbformat_minor": 5
}
